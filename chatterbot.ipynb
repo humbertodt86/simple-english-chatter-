{
 "cells": [
  {
   "cell_type": "code",
   "execution_count": 1,
   "metadata": {},
   "outputs": [
    {
     "output_type": "stream",
     "name": "stderr",
     "text": "[nltk_data] Downloading package stopwords to\n[nltk_data]     C:\\Users\\humbe\\AppData\\Roaming\\nltk_data...\n[nltk_data]   Package stopwords is already up-to-date!\n[nltk_data] Downloading package averaged_perceptron_tagger to\n[nltk_data]     C:\\Users\\humbe\\AppData\\Roaming\\nltk_data...\n[nltk_data]   Package averaged_perceptron_tagger is already up-to-\n[nltk_data]       date!\n"
    }
   ],
   "source": [
    "from chatterbot import ChatBot\n",
    "from chatterbot.trainers import ListTrainer\n",
    "chatbot = ChatBot(\"Ron Obvious\")"
   ]
  },
  {
   "cell_type": "code",
   "execution_count": 2,
   "metadata": {},
   "outputs": [
    {
     "output_type": "stream",
     "name": "stdout",
     "text": "List Trainer: [####################] 100%\n"
    }
   ],
   "source": [
    "\n",
    "\n",
    "conversation = [\n",
    " 'oi',\n",
    "'olá',\n",
    "'qual o seu nome ?',\n",
    "'meu nome é Umba',\n",
    "'legal',\n",
    "'qual sua cor favorita ?',\n",
    "'amarelo',\n",
    "'verde ',\n",
    "'o que você gosta de fazer?',\n",
    "'eu gosto de comer pizza',\n",
    "'Eu gosto de dormir ',\n",
    "'Qual a sua idade ?',\n",
    "'9 anos',\n",
    "'Eu gosto de ver tv.',\n",
    "]\n",
    "\n",
    "trainer = ListTrainer(chatbot)\n",
    "\n",
    "trainer.train(conversation)"
   ]
  },
  {
   "cell_type": "code",
   "execution_count": 3,
   "metadata": {},
   "outputs": [
    {
     "output_type": "stream",
     "name": "stderr",
     "text": "No value for search_text was available on the provided input\nBOT:  oi\nBOT:  Ola\nNo value for search_text was available on the provided input\nBOT:  Oi\nBOT:  oi\n"
    }
   ],
   "source": [
    "request = 0\n",
    "while not(request == 'tchau'):\n",
    "    request = input('Você: ')\n",
    "    response = chatbot.get_response(request)\n",
    "    print('BOT: ', response)"
   ]
  },
  {
   "cell_type": "code",
   "execution_count": null,
   "metadata": {},
   "outputs": [],
   "source": []
  }
 ],
 "metadata": {
  "language_info": {
   "codemirror_mode": {
    "name": "ipython",
    "version": 3
   },
   "file_extension": ".py",
   "mimetype": "text/x-python",
   "name": "python",
   "nbconvert_exporter": "python",
   "pygments_lexer": "ipython3",
   "version": "3.7.7-final"
  },
  "orig_nbformat": 2,
  "kernelspec": {
   "name": "python37764bitchattercondaf667df63a8ac4c0ca95b88dfadcd2bd8",
   "display_name": "Python 3.7.7 64-bit ('chatter': conda)"
  }
 },
 "nbformat": 4,
 "nbformat_minor": 2
}